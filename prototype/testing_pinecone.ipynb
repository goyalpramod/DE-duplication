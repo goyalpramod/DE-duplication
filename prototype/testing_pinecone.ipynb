{
 "cells": [
  {
   "cell_type": "code",
   "execution_count": 13,
   "id": "1124865b-0d77-4d80-a6b0-3f54ffafc1da",
   "metadata": {},
   "outputs": [],
   "source": [
    "import os \n",
    "from dotenv import load_dotenv, find_dotenv\n",
    "\n",
    "load_dotenv(find_dotenv())\n",
    "openai_api_key = os.environ[\"OPENAI_API_KEY\"]\n",
    "pinecone_api_key = os.environ[\"PINECONE_API_KEY\"]\n",
    "pinecone_env = os.environ[\"PINECONE_ENV\"]"
   ]
  },
  {
   "cell_type": "code",
   "execution_count": 14,
   "id": "4edb0cf3-bceb-4a2d-8f4f-3ea5339ded56",
   "metadata": {},
   "outputs": [
    {
     "data": {
      "text/plain": [
       "'C:\\\\Users\\\\ACER\\\\Desktop\\\\work_trial'"
      ]
     },
     "execution_count": 14,
     "metadata": {},
     "output_type": "execute_result"
    }
   ],
   "source": [
    "pwd"
   ]
  },
  {
   "cell_type": "code",
   "execution_count": 15,
   "id": "15bebf4d-e2dd-456b-b061-3ac37deb5014",
   "metadata": {},
   "outputs": [],
   "source": [
    "from pinecone import Pinecone\n",
    "pc = Pinecone(api_key=pinecone_api_key,\n",
    "             environment=pinecone_env)"
   ]
  },
  {
   "cell_type": "code",
   "execution_count": 16,
   "id": "2257df25-ca1b-47ed-aa56-31a087b01652",
   "metadata": {},
   "outputs": [
    {
     "data": {
      "text/plain": [
       "{'dimension': 1536,\n",
       " 'index_fullness': 0.0,\n",
       " 'namespaces': {},\n",
       " 'total_vector_count': 0}"
      ]
     },
     "execution_count": 16,
     "metadata": {},
     "output_type": "execute_result"
    }
   ],
   "source": [
    "# check if index already exists (it shouldn't if this is first time)\n",
    "from pinecone import Pinecone, PodSpec\n",
    "index_name= \"pod-index\"\n",
    "\n",
    "if index_name not in pc.list_indexes().names():\n",
    "    # if does not exist, create index\n",
    "    pc.create_index(\n",
    "        index_name,\n",
    "        dimension=1536,  # dimensionality of text-embedding-ada-002\n",
    "        metric='cosine',\n",
    "        spec=PodSpec(\n",
    "                environment=\"gcp-starter\"\n",
    "                )\n",
    "    )\n",
    "# connect to index\n",
    "index = pc.Index(index_name)\n",
    "# view index stats\n",
    "index.describe_index_stats()"
   ]
  },
  {
   "cell_type": "code",
   "execution_count": 17,
   "id": "08ae3ea4-7d2d-44bc-ba4b-a36f2d7ece69",
   "metadata": {},
   "outputs": [],
   "source": [
    "# from langchain.text_splitter import CharacterTextSplitter\n",
    "# from langchain_community.document_loaders import TextLoader\n",
    "# from langchain.text_splitter import TokenTextSplitter\n",
    "\n",
    "# text_splitter = TokenTextSplitter(chunk_size=100, chunk_overlap=10)\n",
    "# docs = text_splitter.split_text(data_)"
   ]
  },
  {
   "cell_type": "code",
   "execution_count": 18,
   "id": "1fbacebf-58db-4f2d-8c8b-6f62507f3f46",
   "metadata": {},
   "outputs": [],
   "source": [
    "import json \n",
    "\n",
    "file_path = \"data\\dummy.json\"\n",
    "with open(file_path, 'r') as file:\n",
    "        data = json.load(file)"
   ]
  },
  {
   "cell_type": "code",
   "execution_count": 19,
   "id": "4a187938-852a-4f36-86e1-ba197d62d3e5",
   "metadata": {},
   "outputs": [
    {
     "data": {
      "text/plain": [
       "[{'Id': '4e9b7ecd-60ae-4b35-ae8c-22393abcd119',\n",
       "  'title': 'Implement New Feature',\n",
       "  'description': 'Develop the new search functionality using elastic search.',\n",
       "  'assigned': 'John Doe',\n",
       "  'progress': 'In Progress'},\n",
       " {'Id': '6a8dcef8-3dae-4567-ada4-1a2b3c4d5e6f',\n",
       "  'title': 'Bug Fix on Homepage',\n",
       "  'description': 'Address the layout breaking issue in the homepage when viewed on mobile devices.',\n",
       "  'assigned': 'Emily Clark',\n",
       "  'progress': 'Completed'},\n",
       " {'Id': '8bd5fcea-3c56-4771-ac41-54321fe98734',\n",
       "  'title': 'Database Optimization',\n",
       "  'description': 'Optimize the current database schema to improve performance.',\n",
       "  'assigned': 'Alex Smith',\n",
       "  'progress': 'Not Started'},\n",
       " {'Id': 'a49b8e7f-c1d2-460e-999d-54e345678bcf',\n",
       "  'title': 'Implement New Feature',\n",
       "  'description': 'Develop the new chat system for customer support.',\n",
       "  'assigned': 'David Jones',\n",
       "  'progress': 'In Progress'},\n",
       " {'Id': 'eaf7892b-b880-4b57-985c-2a3d4e5678f9',\n",
       "  'title': 'Perform UAT',\n",
       "  'description': 'Coordinate with the QA team to perform User Acceptance Testing for the new feature.',\n",
       "  'assigned': 'Selena Kyle',\n",
       "  'progress': 'Pending'},\n",
       " {'Id': 'b3cd9f80-ab8e-4518-bc11-13245bf6789d',\n",
       "  'title': 'Documentation Update',\n",
       "  'description': 'Update the project documentation to reflect recent changes.',\n",
       "  'assigned': 'Ethan Hunt',\n",
       "  'progress': 'Completed'},\n",
       " {'Id': '7b8e9d2c-69d1-48a7-b3f1-45678ef9abcd',\n",
       "  'title': 'Bug Fix on Homepage',\n",
       "  'description': 'Fix the JavaScript error that appears in the console on the homepage.',\n",
       "  'assigned': 'Bruce Wayne',\n",
       "  'progress': 'In Review'},\n",
       " {'Id': '9f8d7c6e-ab7d-4e2c-8c34-56789f0ed3f2',\n",
       "  'title': 'Database Optimization',\n",
       "  'description': 'Review all indexes on the company database for their effectiveness.',\n",
       "  'assigned': 'Mia Wallace',\n",
       "  'progress': 'Not Started'},\n",
       " {'Id': '2a3b4c5d-6e7f-8a9b-cdef-1234567890ab',\n",
       "  'title': 'Implement New Feature',\n",
       "  'description': 'Develop the new reporting module for finance.',\n",
       "  'assigned': 'Tony Stark',\n",
       "  'progress': 'Delayed'},\n",
       " {'Id': '3c4d5e6f-7a8b-9c0d-efab-234567890fed',\n",
       "  'title': 'Create Test Cases',\n",
       "  'description': 'Create detailed test cases for the new search functionality.',\n",
       "  'assigned': 'Natasha Romanoff',\n",
       "  'progress': 'In Progress'},\n",
       " {'Id': 'cab4d5e6-f7a8-b9c0-de12-34f56g7h8i9j',\n",
       "  'title': 'Frontend UI Enhancements',\n",
       "  'description': 'Redesign the user interface to improve user experience and accessibility.',\n",
       "  'assigned': 'Clark Kent',\n",
       "  'progress': 'Completed'},\n",
       " {'Id': 'fad3c2b1-a4e5-f6d7-89b0-c1d2e3f4b5a6',\n",
       "  'title': 'Performance Tuning',\n",
       "  'description': 'Optimize the current database schema to improve performance.',\n",
       "  'assigned': 'Diana Prince',\n",
       "  'progress': 'In Progress'},\n",
       " {'Id': 'a1b2c3d4-e5f6-g7h8-i9j0-k1l2m3n4o5p6',\n",
       "  'title': 'Technical Debt Cleanup',\n",
       "  'description': 'Address technical debt in the core module, including refactoring for better maintainability.',\n",
       "  'assigned': 'Peter Parker',\n",
       "  'progress': 'Not Started'},\n",
       " {'Id': 'z0y9x8w7-v6u5-t4s3-r2q1-p0o9n8m7l6k5',\n",
       "  'title': 'Perform UAT',\n",
       "  'description': 'Conduct final user acceptance testing with the stakeholders for the new features.',\n",
       "  'assigned': 'Jane Doe',\n",
       "  'progress': 'Pending'},\n",
       " {'Id': 'i8u7y6t5-r4e3-w2q1-a1s2-d3f4g5h6i7j8',\n",
       "  'title': 'Perform UAT',\n",
       "  'description': 'Ensure all new functionalities match the specified requirements through UAT.',\n",
       "  'assigned': 'Steve Rogers',\n",
       "  'progress': 'Pending'},\n",
       " {'Id': 'o9p8q7r6-s5t4-u3v2-w1x2-c3v4b5n6m7o8',\n",
       "  'title': 'Security Review',\n",
       "  'description': 'Conduct a comprehensive security review of the new cloud deployment architecture.',\n",
       "  'assigned': 'Barry Allen',\n",
       "  'progress': 'Not Started'},\n",
       " {'Id': 'p0o9i8u7-y6t5-r4e3-w2q1-z9x8c7v6b5n4',\n",
       "  'title': 'Code Refactoring',\n",
       "  'description': 'Refactor the payment module to improve scalability and efficiency.',\n",
       "  'assigned': 'Wanda Maximoff',\n",
       "  'progress': 'In Progress'},\n",
       " {'Id': 'm1n2b3v4-c5x6-z7a8-s9d8-f7g6h5j4k3l2',\n",
       "  'title': 'Database Optimization',\n",
       "  'description': 'Analyze and optimize the database queries to decrease load times.',\n",
       "  'assigned': 'Arthur Curry',\n",
       "  'progress': 'In Review'},\n",
       " {'Id': 'q1w2e3r4-t5y6-u7i8-o9p0-a1s2d3f4g5h6',\n",
       "  'title': 'Implement New Feature',\n",
       "  'description': 'Develop a new feature for predictive analytics in sales data.',\n",
       "  'assigned': 'Harley Quinn',\n",
       "  'progress': 'Planned'},\n",
       " {'Id': 'j1k2l3m4-n5b6v7-c8x9z0-q1w2e3r4t5y6',\n",
       "  'title': 'Bug Fix on Homepage',\n",
       "  'description': 'Resolve the bug causing improper display of elements on the homepage in Safari browser.',\n",
       "  'assigned': 'Lois Lane',\n",
       "  'progress': 'In Review'},\n",
       " {'Id': 'z6y7x8w9-v6u5-t4s3-r2q1-p0o9n8m7l6k5',\n",
       "  'title': 'Update User Profiles',\n",
       "  'description': 'Enhance the user profile section to allow users to add social links.',\n",
       "  'assigned': 'Oliver Queen',\n",
       "  'progress': 'Not Started'},\n",
       " {'Id': 'm9n8b7v6-c5x4-z3a2-s1d9-f8g7h6j5k4l3',\n",
       "  'title': 'SEO Optimization',\n",
       "  'description': 'Conduct SEO optimization to improve website ranking in search engines.',\n",
       "  'assigned': 'Felicity Smoak',\n",
       "  'progress': 'Completed'},\n",
       " {'Id': 'a1s2d3f4-g5h6-j7k8-l9p0-o9i8u7y6t5r4',\n",
       "  'title': 'Update Landing Page',\n",
       "  'description': 'Redesign the landing page to enhance the first impression on visitors.',\n",
       "  'assigned': 'Cisco Ramon',\n",
       "  'progress': 'In Progress'},\n",
       " {'Id': 'q1w2e3r4-t5y6-u7i8-o9p0-a1s2d3f4g5h6',\n",
       "  'title': 'Implement New Feature',\n",
       "  'description': 'Develop a new feature for customized notifications for users.',\n",
       "  'assigned': 'Charlie Bradbury',\n",
       "  'progress': 'Planned'},\n",
       " {'Id': 'k1l2m3n4-o5p6-i7q8-r9s9-t8u7v6w5x4y3',\n",
       "  'title': 'Accessibility Audit',\n",
       "  'description': 'Perform a comprehensive accessibility audit to ensure compliance with WCAG 2.1.',\n",
       "  'assigned': 'Sam Winchester',\n",
       "  'progress': 'Not Started'},\n",
       " {'Id': 'z1x2c3v4-b5n6-m7l8-k9j8-h7g6f5d4s3a2',\n",
       "  'title': 'API Development',\n",
       "  'description': 'Develop RESTful APIs for the new integration with third-party services.',\n",
       "  'assigned': 'Dean Winchester',\n",
       "  'progress': 'In Progress'},\n",
       " {'Id': 'p0o9i8u7-y6t5-r4e3-w2q1-z9x8c7v6b5n4',\n",
       "  'title': 'Migrate to Cloud',\n",
       "  'description': 'Plan and execute the migration of enterprise applications to a cloud platform.',\n",
       "  'assigned': 'Pamela Isley',\n",
       "  'progress': 'In Review'},\n",
       " {'Id': 'f1g2h3j4-k5l6-m7n8-b9v8-c7x6z5y4w3q2',\n",
       "  'title': 'Server Maintenance',\n",
       "  'description': 'Schedule and perform regular maintenance on all project servers.',\n",
       "  'assigned': 'Garfield Logan',\n",
       "  'progress': 'Pending'},\n",
       " {'Id': 'i1u2y3t4-r5e6-w7q8-o9p0-a1s2d3f4g5h6',\n",
       "  'title': 'Data Backup and Recovery Plan',\n",
       "  'description': 'Develop a comprehensive backup and recovery plan for critical data.',\n",
       "  'assigned': 'Rachel Roth',\n",
       "  'progress': 'Not Started'},\n",
       " {'Id': 'o1i2u3y4-t5r6-e7w8-q9a0-s1d2f3g4h5j6',\n",
       "  'title': 'Enhance Security Protocols',\n",
       "  'description': 'Implement advanced security measures to protect against new vulnerabilities.',\n",
       "  'assigned': 'Victor Stone',\n",
       "  'progress': 'Planned'},\n",
       " {'Id': 'q1a2z3w4-s5x6-e7d8-c9r4-v6b5n4m3l2k1',\n",
       "  'title': 'Create Marketing Campaign',\n",
       "  'description': 'Launch a new marketing campaign for the upcoming product line.',\n",
       "  'assigned': \"Koriand'r\",\n",
       "  'progress': 'In Progress'},\n",
       " {'Id': 'j1h2g3f4-d5s6-a7q8-z9w8-x7e6r5t4y3u2',\n",
       "  'title': 'Customer Feedback System',\n",
       "  'description': 'Implement a system for collecting and analyzing customer feedback.',\n",
       "  'assigned': 'Barbara Gordon',\n",
       "  'progress': 'Pending'},\n",
       " {'Id': 'p0o9i8u7-y6t5-r4e3-w2q1-z9x8c7v6b5n4',\n",
       "  'title': 'Implement Agile Methodologies',\n",
       "  'description': 'Transition the development team to agile methodologies for better project management.',\n",
       "  'assigned': 'Kara Danvers',\n",
       "  'progress': 'In Review'},\n",
       " {'Id': 'r4e3w2q1-t5y6-u7i8-o9p0-a1s2d3f4g5h6',\n",
       "  'title': 'Implement New Feature',\n",
       "  'description': 'Create a dashboard for real-time data monitoring and insights.',\n",
       "  'assigned': 'Jefferson Pierce',\n",
       "  'progress': 'Planned'},\n",
       " {'Id': 'z9x8c7v6-b5n4-m3l2-k1j8-h7g6f5d4s3a2',\n",
       "  'title': 'Frontend UI Enhancements',\n",
       "  'description': 'Improve the dashboard UI for better usability and aesthetic appeal.',\n",
       "  'assigned': 'Anissa Pierce',\n",
       "  'progress': 'Completed'},\n",
       " {'Id': 'y1t2r3e4-w5q6-u7i8-o9p0-a1s2d3f4g5h6',\n",
       "  'title': 'Optimize Load Times',\n",
       "  'description': \"Implement strategies to significantly reduce the website's load times.\",\n",
       "  'assigned': 'Dinah Drake',\n",
       "  'progress': 'In Progress'},\n",
       " {'Id': 'q1w2e3r4-t5y6-u7i8-o9p0-a1s2d3f4g5h6',\n",
       "  'title': 'SEO Optimization',\n",
       "  'description': 'Update meta tags and improve content for better SEO performance.',\n",
       "  'assigned': 'Sara Lance',\n",
       "  'progress': 'Not Started'},\n",
       " {'Id': 'f5g6h7j8-k9l0-z1x2-c3v4-b5n6m7n8b9v6',\n",
       "  'title': 'Refactor Codebase',\n",
       "  'description': 'Carry out a major refactoring of the codebase for improved maintainability.',\n",
       "  'assigned': 'Ray Palmer',\n",
       "  'progress': 'In Review'},\n",
       " {'Id': 'd2f3g4h5-i6j7-k8l9-m1n2-o3p4q5r6s7t8',\n",
       "  'title': 'Implement New Feature',\n",
       "  'description': 'Develop the new search feature using ElasticSearch.',\n",
       "  'assigned': 'John Doe',\n",
       "  'progress': 'In Progress'},\n",
       " {'Id': 'u7v8w9x0-y1z2-a3b4-c5d6-e7f8g9h0i1j2',\n",
       "  'title': 'Bug Fix on Homepage',\n",
       "  'description': 'Fix the responsive design issue on the homepage for mobile users.',\n",
       "  'assigned': 'Emily Clark',\n",
       "  'progress': 'Completed'},\n",
       " {'Id': 'k9l8m7n6-o5p4-q3r2-s1t0-u8v9w7x6y5z4',\n",
       "  'title': 'Database Optimization',\n",
       "  'description': 'Enhance the current database schema to boost efficiency.',\n",
       "  'assigned': 'Alex Smith',\n",
       "  'progress': 'Not Started'},\n",
       " {'Id': 'v6b7n8m9-c5x4-z3a2-s1e9-d8f7g6h5i4j3',\n",
       "  'title': 'Update Homepage Bug Fix',\n",
       "  'description': 'Resolve the JavaScript console error seen on the homepage.',\n",
       "  'assigned': 'Bruce Wayne',\n",
       "  'progress': 'In Review'},\n",
       " {'Id': 'p0l9k8j7-h6g5-f4d3-s2a1-q1w2e3r4t5y6',\n",
       "  'title': 'Perform UAT',\n",
       "  'description': 'Handle final user acceptance testing with stakeholders for the latest features.',\n",
       "  'assigned': 'Jane Doe',\n",
       "  'progress': 'Pending'},\n",
       " {'Id': 'm4n5b6v7-c8x9-z0l1-k2j3-h4g5f6d7s8a9',\n",
       "  'title': 'Database Optimization',\n",
       "  'description': 'Inspect database indexes for their performance impact.',\n",
       "  'assigned': 'Mia Wallace',\n",
       "  'progress': 'Not Started'}]"
      ]
     },
     "execution_count": 19,
     "metadata": {},
     "output_type": "execute_result"
    }
   ],
   "source": [
    "data"
   ]
  },
  {
   "cell_type": "code",
   "execution_count": 20,
   "id": "3d542fb8-451f-421d-a5cb-43cc82b50277",
   "metadata": {},
   "outputs": [],
   "source": [
    "from langchain.schema import Document\n",
    "\n",
    "final_docs = []\n",
    "\n",
    "for document in data:\n",
    "    # page_content is a concatenation of description and title\n",
    "    page_content = document[\"description\"] + \" \" + document[\"title\"]\n",
    "    \n",
    "    # Metadata should contain the rest, so we need to exclude description and title from the document dict\n",
    "    metadata = {key: value for key, value in document.items() if key not in ['description', 'title']}\n",
    "    \n",
    "    final_doc = Document(page_content=page_content, metadata=metadata)\n",
    "    final_docs.append(final_doc)"
   ]
  },
  {
   "cell_type": "code",
   "execution_count": 21,
   "id": "a1be910d-ce50-428f-b575-0519aecce497",
   "metadata": {},
   "outputs": [
    {
     "name": "stdout",
     "output_type": "stream",
     "text": [
      "Page Content: Develop the new search functionality using elastic search. Implement New Feature\n",
      "Metadata: {'Id': '4e9b7ecd-60ae-4b35-ae8c-22393abcd119', 'assigned': 'John Doe', 'progress': 'In Progress'}\n",
      "Id from Metadata: 4e9b7ecd-60ae-4b35-ae8c-22393abcd119\n",
      "\n",
      "Page Content: Address the layout breaking issue in the homepage when viewed on mobile devices. Bug Fix on Homepage\n",
      "Metadata: {'Id': '6a8dcef8-3dae-4567-ada4-1a2b3c4d5e6f', 'assigned': 'Emily Clark', 'progress': 'Completed'}\n",
      "Id from Metadata: 6a8dcef8-3dae-4567-ada4-1a2b3c4d5e6f\n",
      "\n",
      "Page Content: Optimize the current database schema to improve performance. Database Optimization\n",
      "Metadata: {'Id': '8bd5fcea-3c56-4771-ac41-54321fe98734', 'assigned': 'Alex Smith', 'progress': 'Not Started'}\n",
      "Id from Metadata: 8bd5fcea-3c56-4771-ac41-54321fe98734\n",
      "\n"
     ]
    }
   ],
   "source": [
    "# To demonstrate it has worked as expected; let's print the result:\n",
    "for _,doc in enumerate(final_docs):\n",
    "    print(\"Page Content:\", doc.page_content)\n",
    "    print(\"Metadata:\", doc.metadata)\n",
    "    print(\"Id from Metadata:\", doc.metadata[\"Id\"])\n",
    "    print()  # Just to add an empty line between documents for clarity\n",
    "    if _ == 2:\n",
    "        break"
   ]
  },
  {
   "cell_type": "code",
   "execution_count": 22,
   "id": "6f2dc471-460a-469a-9e1c-9582631b2dc7",
   "metadata": {},
   "outputs": [],
   "source": [
    "from langchain_openai import OpenAIEmbeddings\n",
    "\n",
    "embeddings = OpenAIEmbeddings()"
   ]
  },
  {
   "cell_type": "code",
   "execution_count": 25,
   "id": "b6f00144-5750-48bd-827d-2014911182bd",
   "metadata": {},
   "outputs": [],
   "source": [
    "from langchain_community.vectorstores import Pinecone as PineconeVectorstore\n",
    "from langchain_openai import OpenAIEmbeddings\n",
    "\n",
    "query = \"elastic search\"\n",
    "\n",
    "docsearch = PineconeVectorstore.from_documents(final_docs, embeddings, index_name=index_name)\n",
    "docs_ = docsearch.similarity_search_with_relevance_scores(query = query)\n"
   ]
  },
  {
   "cell_type": "code",
   "execution_count": 26,
   "id": "8eb3317e-bf6e-4b5f-aa58-154ef2ca05e1",
   "metadata": {},
   "outputs": [
    {
     "name": "stdout",
     "output_type": "stream",
     "text": [
      "[(Document(page_content='Develop the new search feature using ElasticSearch. Implement New Feature', metadata={'Id': 'd2f3g4h5-i6j7-k8l9-m1n2-o3p4q5r6s7t8', 'assigned': 'John Doe', 'progress': 'In Progress'}), 0.9209570585), (Document(page_content='Develop the new search functionality using elastic search. Implement New Feature', metadata={'Id': '4e9b7ecd-60ae-4b35-ae8c-22393abcd119', 'assigned': 'John Doe', 'progress': 'In Progress'}), 0.918690413), (Document(page_content='Review all indexes on the company database for their effectiveness. Database Optimization', metadata={'Id': '9f8d7c6e-ab7d-4e2c-8c34-56789f0ed3f2', 'assigned': 'Mia Wallace', 'progress': 'Not Started'}), 0.8908236625), (Document(page_content='Conduct SEO optimization to improve website ranking in search engines. SEO Optimization', metadata={'Id': 'm9n8b7v6-c5x4-z3a2-s1d9-f8g7h6j5k4l3', 'assigned': 'Felicity Smoak', 'progress': 'Completed'}), 0.890244037)]\n"
     ]
    }
   ],
   "source": [
    "print(docs_)"
   ]
  },
  {
   "cell_type": "code",
   "execution_count": null,
   "id": "5f1d9ade-dad5-43d6-95dc-76ef0513a347",
   "metadata": {},
   "outputs": [],
   "source": []
  }
 ],
 "metadata": {
  "kernelspec": {
   "display_name": "Python 3 (ipykernel)",
   "language": "python",
   "name": "python3"
  },
  "language_info": {
   "codemirror_mode": {
    "name": "ipython",
    "version": 3
   },
   "file_extension": ".py",
   "mimetype": "text/x-python",
   "name": "python",
   "nbconvert_exporter": "python",
   "pygments_lexer": "ipython3",
   "version": "3.9.0"
  }
 },
 "nbformat": 4,
 "nbformat_minor": 5
}
