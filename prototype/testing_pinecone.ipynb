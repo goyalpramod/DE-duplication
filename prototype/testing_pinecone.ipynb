{
 "cells": [
  {
   "cell_type": "code",
   "execution_count": 1,
   "id": "1124865b-0d77-4d80-a6b0-3f54ffafc1da",
   "metadata": {},
   "outputs": [],
   "source": [
    "import os \n",
    "from dotenv import load_dotenv, find_dotenv\n",
    "\n",
    "load_dotenv(find_dotenv())\n",
    "openai_api_key = os.environ[\"OPENAI_API_KEY\"]\n",
    "pinecone_api_key = os.environ[\"PINECONE_API_KEY\"]\n",
    "pinecone_env = os.environ[\"PINECONE_ENV\"]"
   ]
  },
  {
   "cell_type": "code",
   "execution_count": 2,
   "id": "4edb0cf3-bceb-4a2d-8f4f-3ea5339ded56",
   "metadata": {},
   "outputs": [
    {
     "data": {
      "text/plain": [
       "'C:\\\\Users\\\\ACER\\\\Desktop\\\\work_trial\\\\prototype'"
      ]
     },
     "execution_count": 2,
     "metadata": {},
     "output_type": "execute_result"
    }
   ],
   "source": [
    "pwd"
   ]
  },
  {
   "cell_type": "code",
   "execution_count": 3,
   "id": "15bebf4d-e2dd-456b-b061-3ac37deb5014",
   "metadata": {},
   "outputs": [],
   "source": [
    "from pinecone import Pinecone\n",
    "pc = Pinecone(api_key=pinecone_api_key,\n",
    "             environment=pinecone_env)"
   ]
  },
  {
   "cell_type": "code",
   "execution_count": 4,
   "id": "2257df25-ca1b-47ed-aa56-31a087b01652",
   "metadata": {},
   "outputs": [
    {
     "data": {
      "text/plain": [
       "{'dimension': 1536,\n",
       " 'index_fullness': 0.0,\n",
       " 'namespaces': {},\n",
       " 'total_vector_count': 0}"
      ]
     },
     "execution_count": 4,
     "metadata": {},
     "output_type": "execute_result"
    }
   ],
   "source": [
    "# check if index already exists (it shouldn't if this is first time)\n",
    "from pinecone import Pinecone, PodSpec\n",
    "index_name= \"pod-index\"\n",
    "\n",
    "if index_name not in pc.list_indexes().names():\n",
    "    # if does not exist, create index\n",
    "    pc.create_index(\n",
    "        index_name,\n",
    "        dimension=1536,  # dimensionality of text-embedding-ada-002\n",
    "        metric='cosine',\n",
    "        spec=PodSpec(\n",
    "                environment=\"gcp-starter\"\n",
    "                )\n",
    "    )\n",
    "# connect to index\n",
    "index = pc.Index(index_name)\n",
    "# view index stats\n",
    "index.describe_index_stats()"
   ]
  },
  {
   "cell_type": "code",
   "execution_count": 5,
   "id": "08ae3ea4-7d2d-44bc-ba4b-a36f2d7ece69",
   "metadata": {},
   "outputs": [],
   "source": [
    "# from langchain.text_splitter import CharacterTextSplitter\n",
    "# from langchain_community.document_loaders import TextLoader\n",
    "# from langchain.text_splitter import TokenTextSplitter\n",
    "\n",
    "# text_splitter = TokenTextSplitter(chunk_size=100, chunk_overlap=10)\n",
    "# docs = text_splitter.split_text(data_)"
   ]
  },
  {
   "cell_type": "code",
   "execution_count": 7,
   "id": "dc8d0b8e-5bc7-49d1-a067-3ccf3f713042",
   "metadata": {},
   "outputs": [],
   "source": [
    "# cd .."
   ]
  },
  {
   "cell_type": "code",
   "execution_count": 8,
   "id": "1fbacebf-58db-4f2d-8c8b-6f62507f3f46",
   "metadata": {},
   "outputs": [],
   "source": [
    "import json \n",
    "\n",
    "file_path = \"data\\dummy.json\"\n",
    "with open(file_path, 'r') as file:\n",
    "        data = json.load(file)"
   ]
  },
  {
   "cell_type": "code",
   "execution_count": 9,
   "id": "4a187938-852a-4f36-86e1-ba197d62d3e5",
   "metadata": {},
   "outputs": [],
   "source": [
    "# data"
   ]
  },
  {
   "cell_type": "code",
   "execution_count": 10,
   "id": "3d542fb8-451f-421d-a5cb-43cc82b50277",
   "metadata": {},
   "outputs": [],
   "source": [
    "from langchain.schema import Document\n",
    "\n",
    "final_docs = []\n",
    "\n",
    "for document in data:\n",
    "    # page_content is a concatenation of description and title\n",
    "    page_content = document[\"description\"] + \" \" + document[\"title\"]\n",
    "    \n",
    "    # Metadata should contain the rest, so we need to exclude description and title from the document dict\n",
    "    metadata = {key: value for key, value in document.items() if key not in ['description', 'title']}\n",
    "    \n",
    "    final_doc = Document(page_content=page_content, metadata=metadata)\n",
    "    final_docs.append(final_doc)"
   ]
  },
  {
   "cell_type": "code",
   "execution_count": 11,
   "id": "a1be910d-ce50-428f-b575-0519aecce497",
   "metadata": {},
   "outputs": [],
   "source": [
    "# # To demonstrate it has worked as expected; let's print the result:\n",
    "# for _,doc in enumerate(final_docs):\n",
    "#     print(\"Page Content:\", doc.page_content)\n",
    "#     print(\"Metadata:\", doc.metadata)\n",
    "#     print(\"Id from Metadata:\", doc.metadata[\"Id\"])\n",
    "#     print()  # Just to add an empty line between documents for clarity\n",
    "#     if _ == 2:\n",
    "#         break"
   ]
  },
  {
   "cell_type": "code",
   "execution_count": 12,
   "id": "6f2dc471-460a-469a-9e1c-9582631b2dc7",
   "metadata": {},
   "outputs": [],
   "source": [
    "from langchain_openai import OpenAIEmbeddings\n",
    "\n",
    "embeddings = OpenAIEmbeddings()"
   ]
  },
  {
   "cell_type": "code",
   "execution_count": 13,
   "id": "ac7377cf-d69b-4d7c-9f77-b23651ec1d70",
   "metadata": {},
   "outputs": [],
   "source": [
    "from langchain_community.vectorstores import Pinecone as PineconeVectorstore\n",
    "# this was sending the info again and again to pinecone\n",
    "\n",
    "docsearch = PineconeVectorstore.from_documents(final_docs, embeddings, index_name=index_name)"
   ]
  },
  {
   "cell_type": "code",
   "execution_count": 26,
   "id": "2050e0b2-f80a-4dc0-bddb-9ef6ccd01bbb",
   "metadata": {},
   "outputs": [],
   "source": [
    "query = \"Pramod Goyal\"\n",
    "docs_ = docsearch.similarity_search_with_relevance_scores(query = query)"
   ]
  },
  {
   "cell_type": "code",
   "execution_count": 27,
   "id": "1b99d26c-99e8-4b5b-94fa-a07ae5b893a3",
   "metadata": {},
   "outputs": [
    {
     "name": "stdout",
     "output_type": "stream",
     "text": [
      "[(Document(page_content='Transition the development team to agile methodologies for better project management. Implement Agile Methodologies', metadata={'Id': 'p0o9i8u7-y6t5-r4e3-w2q1-z9x8c7v6b5n4', 'assigned': 'Kara Danvers', 'progress': 'In Review'}), 0.8770760595), (Document(page_content='Carry out a major refactoring of the codebase for improved maintainability. Refactor Codebase', metadata={'Id': 'f5g6h7j8-k9l0-z1x2-c3v4-b5n6m7n8b9v6', 'assigned': 'Ray Palmer', 'progress': 'In Review'}), 0.8707837460000001), (Document(page_content='Develop RESTful APIs for the new integration with third-party services. API Development', metadata={'Id': 'z1x2c3v4-b5n6-m7l8-k9j8-h7g6f5d4s3a2', 'assigned': 'Dean Winchester', 'progress': 'In Progress'}), 0.8703164999999999), (Document(page_content='Redesign the user interface to improve user experience and accessibility. Frontend UI Enhancements', metadata={'Id': 'cab4d5e6-f7a8-b9c0-de12-34f56g7h8i9j', 'assigned': 'Clark Kent', 'progress': 'Completed'}), 0.866815686)]\n"
     ]
    }
   ],
   "source": [
    "print(docs_)"
   ]
  },
  {
   "cell_type": "code",
   "execution_count": 28,
   "id": "76937c29-e661-4dbb-93cf-256d9b452825",
   "metadata": {},
   "outputs": [
    {
     "data": {
      "text/plain": [
       "{'dimension': 1536,\n",
       " 'index_fullness': 0.00044,\n",
       " 'namespaces': {'': {'vector_count': 44}},\n",
       " 'total_vector_count': 44}"
      ]
     },
     "execution_count": 28,
     "metadata": {},
     "output_type": "execute_result"
    }
   ],
   "source": [
    "index.describe_index_stats()"
   ]
  },
  {
   "cell_type": "code",
   "execution_count": 65,
   "id": "9428be7d-d6e3-49ad-8304-ce2146e782e1",
   "metadata": {},
   "outputs": [
    {
     "name": "stdout",
     "output_type": "stream",
     "text": [
      "[(Document(page_content='Develop the new search feature using ElasticSearch. Implement New Feature', metadata={'Id': 'd2f3g4h5-i6j7-k8l9-m1n2-o3p4q5r6s7t8', 'assigned': 'John Doe', 'progress': 'In Progress'}), 0.930720836), (Document(page_content='Develop the new search feature using ElasticSearch. Implement New Feature', metadata={'Id': 'd2f3g4h5-i6j7-k8l9-m1n2-o3p4q5r6s7t8', 'assigned': 'John Doe', 'progress': 'In Progress'}), 0.930674851), (Document(page_content='Develop the new search feature using ElasticSearch. Implement New Feature', metadata={'Id': 'd2f3g4h5-i6j7-k8l9-m1n2-o3p4q5r6s7t8', 'assigned': 'John Doe', 'progress': 'In Progress'}), 0.930674851), (Document(page_content='Develop the new search feature using ElasticSearch. Implement New Feature', metadata={'Id': 'd2f3g4h5-i6j7-k8l9-m1n2-o3p4q5r6s7t8', 'assigned': 'John Doe', 'progress': 'In Progress'}), 0.930500239)]\n"
     ]
    }
   ],
   "source": [
    "print(docs_)"
   ]
  },
  {
   "cell_type": "code",
   "execution_count": 35,
   "id": "70ead053-826b-4234-879b-48be421a7552",
   "metadata": {},
   "outputs": [
    {
     "name": "stdout",
     "output_type": "stream",
     "text": [
      "[(Document(page_content='Develop the new search feature using ElasticSearch. Implement New Feature', metadata={'Id': 'd2f3g4h5-i6j7-k8l9-m1n2-o3p4q5r6s7t8', 'assigned': 'John Doe', 'progress': 'In Progress'}), 0.9307438435), (Document(page_content='Develop the new search feature using ElasticSearch. Implement New Feature', metadata={'Id': 'd2f3g4h5-i6j7-k8l9-m1n2-o3p4q5r6s7t8', 'assigned': 'John Doe', 'progress': 'In Progress'}), 0.930720836), (Document(page_content='Develop the new search feature using ElasticSearch. Implement New Feature', metadata={'Id': 'd2f3g4h5-i6j7-k8l9-m1n2-o3p4q5r6s7t8', 'assigned': 'John Doe', 'progress': 'In Progress'}), 0.930720836), (Document(page_content='Develop the new search feature using ElasticSearch. Implement New Feature', metadata={'Id': 'd2f3g4h5-i6j7-k8l9-m1n2-o3p4q5r6s7t8', 'assigned': 'John Doe', 'progress': 'In Progress'}), 0.930720836)]\n"
     ]
    }
   ],
   "source": [
    "print(docs_)"
   ]
  },
  {
   "cell_type": "code",
   "execution_count": 33,
   "id": "894ebb78-12f9-4696-899f-03309c669119",
   "metadata": {},
   "outputs": [
    {
     "name": "stdout",
     "output_type": "stream",
     "text": [
      "[(Document(page_content='Develop the new search functionality using elastic search. Implement New Feature', metadata={'Id': '4e9b7ecd-60ae-4b35-ae8c-22393abcd119', 'assigned': 'John Doe', 'progress': 'In Progress'}), 0.932115525), (Document(page_content='Develop the new search functionality using elastic search. Implement New Feature', metadata={'Id': '4e9b7ecd-60ae-4b35-ae8c-22393abcd119', 'assigned': 'John Doe', 'progress': 'In Progress'}), 0.9320771695000001), (Document(page_content='Develop the new search functionality using elastic search. Implement New Feature', metadata={'Id': '4e9b7ecd-60ae-4b35-ae8c-22393abcd119', 'assigned': 'John Doe', 'progress': 'In Progress'}), 0.932056427), (Document(page_content='Develop the new search functionality using elastic search. Implement New Feature', metadata={'Id': '4e9b7ecd-60ae-4b35-ae8c-22393abcd119', 'assigned': 'John Doe', 'progress': 'In Progress'}), 0.932056427)]\n"
     ]
    }
   ],
   "source": [
    "print(docs_)"
   ]
  },
  {
   "cell_type": "code",
   "execution_count": 31,
   "id": "9631ebc9-c518-497e-816b-4f99832834e9",
   "metadata": {},
   "outputs": [
    {
     "name": "stdout",
     "output_type": "stream",
     "text": [
      "[(Document(page_content='Develop the new search functionality using elastic search. Implement New Feature', metadata={'Id': '4e9b7ecd-60ae-4b35-ae8c-22393abcd119', 'assigned': 'John Doe', 'progress': 'In Progress'}), 0.978464395), (Document(page_content='Develop the new search functionality using elastic search. Implement New Feature', metadata={'Id': '4e9b7ecd-60ae-4b35-ae8c-22393abcd119', 'assigned': 'John Doe', 'progress': 'In Progress'}), 0.9783974289999999), (Document(page_content='Develop the new search functionality using elastic search. Implement New Feature', metadata={'Id': '4e9b7ecd-60ae-4b35-ae8c-22393abcd119', 'assigned': 'John Doe', 'progress': 'In Progress'}), 0.9783851205), (Document(page_content='Develop the new search functionality using elastic search. Implement New Feature', metadata={'Id': '4e9b7ecd-60ae-4b35-ae8c-22393abcd119', 'assigned': 'John Doe', 'progress': 'In Progress'}), 0.9783838389999999)]\n"
     ]
    }
   ],
   "source": [
    "# third run\n",
    "print(docs_)"
   ]
  },
  {
   "cell_type": "code",
   "execution_count": 13,
   "id": "8eb3317e-bf6e-4b5f-aa58-154ef2ca05e1",
   "metadata": {},
   "outputs": [
    {
     "name": "stdout",
     "output_type": "stream",
     "text": [
      "[(Document(page_content='Coordinate with the QA team to perform User Acceptance Testing for the new feature. Perform UAT', metadata={'Id': 'eaf7892b-b880-4b57-985c-2a3d4e5678f9', 'assigned': 'Selena Kyle', 'progress': 'Pending'}), 0.9530545770000001), (Document(page_content='Coordinate with the QA team to perform User Acceptance Testing for the new feature. Perform UAT', metadata={'Id': 'eaf7892b-b880-4b57-985c-2a3d4e5678f9', 'assigned': 'Selena Kyle', 'progress': 'Pending'}), 0.9529216885), (Document(page_content='Coordinate with the QA team to perform User Acceptance Testing for the new feature. Perform UAT', metadata={'Id': 'eaf7892b-b880-4b57-985c-2a3d4e5678f9', 'assigned': 'Selena Kyle', 'progress': 'Pending'}), 0.9529216885), (Document(page_content='Coordinate with the QA team to perform User Acceptance Testing for the new feature. Perform UAT', metadata={'Id': 'eaf7892b-b880-4b57-985c-2a3d4e5678f9', 'assigned': 'Selena Kyle', 'progress': 'Pending'}), 0.9529216885)]\n"
     ]
    }
   ],
   "source": [
    "# First run\n",
    "print(docs_)"
   ]
  },
  {
   "cell_type": "code",
   "execution_count": null,
   "id": "5f1d9ade-dad5-43d6-95dc-76ef0513a347",
   "metadata": {},
   "outputs": [],
   "source": [
    "# 1st run \n",
    "# [(Document(page_content='Coordinate with the QA team to perform User Acceptance Testing for the new feature. Perform UAT', metadata={'Id': 'eaf7892b-b880-4b57-985c-2a3d4e5678f9', 'assigned': 'Selena Kyle', 'progress': 'Pending'}), 0.9530545770000001), (Document(page_content='Coordinate with the QA team to perform User Acceptance Testing for the new feature. Perform UAT', metadata={'Id': 'eaf7892b-b880-4b57-985c-2a3d4e5678f9', 'assigned': 'Selena Kyle', 'progress': 'Pending'}), 0.9529216885), (Document(page_content='Coordinate with the QA team to perform User Acceptance Testing for the new feature. Perform UAT', metadata={'Id': 'eaf7892b-b880-4b57-985c-2a3d4e5678f9', 'assigned': 'Selena Kyle', 'progress': 'Pending'}), 0.9529216885), (Document(page_content='Coordinate with the QA team to perform User Acceptance Testing for the new feature. Perform UAT', metadata={'Id': 'eaf7892b-b880-4b57-985c-2a3d4e5678f9', 'assigned': 'Selena Kyle', 'progress': 'Pending'}), 0.9529216885)]\n",
    "\n",
    "# Delete and rerun\n"
   ]
  },
  {
   "cell_type": "code",
   "execution_count": null,
   "id": "e2d8cb59-69a6-4af3-a616-4f1bc29a5a76",
   "metadata": {},
   "outputs": [],
   "source": [
    "# 2nd run \n",
    "# [(Document(page_content='Handle final user acceptance testing with stakeholders for the latest features. Perform UAT', metadata={'Id': 'p0l9k8j7-h6g5-f4d3-s2a1-q1w2e3r4t5y6', 'assigned': 'Jane Doe', 'progress': 'Pending'}), 0.936533779), (Document(page_content='Handle final user acceptance testing with stakeholders for the latest features. Perform UAT', metadata={'Id': 'p0l9k8j7-h6g5-f4d3-s2a1-q1w2e3r4t5y6', 'assigned': 'Jane Doe', 'progress': 'Pending'}), 0.936533779), (Document(page_content='Coordinate with the QA team to perform User Acceptance Testing for the new feature. Perform UAT', metadata={'Id': 'eaf7892b-b880-4b57-985c-2a3d4e5678f9', 'assigned': 'Selena Kyle', 'progress': 'Pending'}), 0.935997784), (Document(page_content='Coordinate with the QA team to perform User Acceptance Testing for the new feature. Perform UAT', metadata={'Id': 'eaf7892b-b880-4b57-985c-2a3d4e5678f9', 'assigned': 'Selena Kyle', 'progress': 'Pending'}), 0.9358026085)]"
   ]
  }
 ],
 "metadata": {
  "kernelspec": {
   "display_name": "Python 3 (ipykernel)",
   "language": "python",
   "name": "python3"
  },
  "language_info": {
   "codemirror_mode": {
    "name": "ipython",
    "version": 3
   },
   "file_extension": ".py",
   "mimetype": "text/x-python",
   "name": "python",
   "nbconvert_exporter": "python",
   "pygments_lexer": "ipython3",
   "version": "3.9.0"
  }
 },
 "nbformat": 4,
 "nbformat_minor": 5
}
